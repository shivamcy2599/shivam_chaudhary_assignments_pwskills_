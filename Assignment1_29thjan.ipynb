{
 "cells": [
  {
   "cell_type": "markdown",
   "id": "f0ebc068-307a-4add-9815-7192b02e0d0f",
   "metadata": {},
   "source": [
    "Ques1.Who developed Python Programming Language? "
   ]
  },
  {
   "cell_type": "markdown",
   "id": "4278069c-f785-42c2-a67d-1fb90d2d7e14",
   "metadata": {},
   "source": [
    "Ans1.Guido van Rossum"
   ]
  },
  {
   "cell_type": "markdown",
   "id": "05dca610-6f52-4698-bf75-fb1492f4dff9",
   "metadata": {},
   "source": [
    "2. Which type of Programming does Python support? "
   ]
  },
  {
   "cell_type": "markdown",
   "id": "8bb3b119-d5dc-4dec-8b5e-e0027ffb9002",
   "metadata": {},
   "source": [
    "Ans2. Python supports procedural,object-oriented and fnction programming language"
   ]
  },
  {
   "cell_type": "markdown",
   "id": "3be3e73c-8163-41d8-89d8-4a3863e37377",
   "metadata": {},
   "source": [
    "3. Is Python case sensitive when dealing with identifiers? "
   ]
  },
  {
   "cell_type": "markdown",
   "id": "31398b2c-15b3-406f-a4f3-b2ff8274513b",
   "metadata": {},
   "source": [
    "Ans3. Yes "
   ]
  },
  {
   "cell_type": "markdown",
   "id": "21cc9b71-ac08-46c3-bdf1-4f697d60c875",
   "metadata": {},
   "source": [
    "4. What is the correct extension of the Python file? "
   ]
  },
  {
   "cell_type": "markdown",
   "id": "bb1788fc-d03b-49b2-82b3-e0d2f74bddf0",
   "metadata": {},
   "source": [
    "Ans. Extention of the python file is \".py\""
   ]
  },
  {
   "cell_type": "markdown",
   "id": "28fa291b-74ed-4333-8d7f-b8c660a4c6e1",
   "metadata": {},
   "source": [
    "5.Is Python code compiled or interpreted? "
   ]
  },
  {
   "cell_type": "markdown",
   "id": "45c921ef-409c-4921-b496-57e2ccdae578",
   "metadata": {},
   "source": [
    "Ans5.Python code is both compiled as well as interpreted"
   ]
  },
  {
   "cell_type": "markdown",
   "id": "2afb6edd-5428-4bb8-8fcd-eaf87453fc61",
   "metadata": {},
   "source": [
    "6. Name a few blocks of code used to define in Python language? "
   ]
  },
  {
   "cell_type": "markdown",
   "id": "9933a856-21a7-4829-9fa4-d107bfb94f1e",
   "metadata": {},
   "source": [
    "Ans. Few blocks of code can be : a class defination, function body ,  module"
   ]
  },
  {
   "cell_type": "markdown",
   "id": "05efd66d-149b-4c88-9b00-03a04c1ff525",
   "metadata": {},
   "source": [
    "7. State a character used to give single-line comments in Python? "
   ]
  },
  {
   "cell_type": "markdown",
   "id": "eb52e558-5af5-4563-9030-ba022c827483",
   "metadata": {},
   "source": [
    "Ans. hash(#)"
   ]
  },
  {
   "cell_type": "markdown",
   "id": "a182659a-26b8-4111-a575-a7e7f6e104a8",
   "metadata": {},
   "source": [
    "8. Mention functions which can help us to find the version of python that we are currently working on?"
   ]
  },
  {
   "cell_type": "markdown",
   "id": "f51350ce-c848-42c3-a6af-eb6be4bb9058",
   "metadata": {},
   "source": [
    "Ans.sys.version"
   ]
  },
  {
   "cell_type": "markdown",
   "id": "bd9d3bb9-f2ce-4948-a84b-c9c6291ea7b3",
   "metadata": {},
   "source": [
    "9. Python supports the creation of anonymous functions at runtime, using a construct called "
   ]
  },
  {
   "cell_type": "markdown",
   "id": "1a13615f-c619-41fc-8102-b079e18c5df7",
   "metadata": {},
   "source": [
    "ans. lambda function"
   ]
  },
  {
   "cell_type": "markdown",
   "id": "557ce578-9864-44e6-97ba-ebb0c415c7e6",
   "metadata": {},
   "source": [
    "10.What does pip stand for python? "
   ]
  },
  {
   "cell_type": "markdown",
   "id": "ef2381ff-662d-408e-9769-13f8e0c8abfe",
   "metadata": {},
   "source": [
    "Ans.preferred installer program"
   ]
  },
  {
   "cell_type": "markdown",
   "id": "eea79ce6-30ce-47f3-85e4-5541e9efb413",
   "metadata": {},
   "source": [
    "11.Mention a few built-in functions in python? "
   ]
  },
  {
   "cell_type": "markdown",
   "id": "d720120c-dd73-4764-b429-d4d5d0e60df2",
   "metadata": {},
   "source": [
    "Ans. type(),len(),print(),upper(),lower(),find(),etc.."
   ]
  },
  {
   "cell_type": "markdown",
   "id": "22eaea55-f21f-4858-bcf7-3e7c75c9ce54",
   "metadata": {},
   "source": [
    "12. What is the maximum possible length of an identifier in Python? "
   ]
  },
  {
   "cell_type": "markdown",
   "id": "80feb961-c7d8-4b61-84f9-288c11816b64",
   "metadata": {},
   "source": [
    "Ans.79 characters"
   ]
  },
  {
   "cell_type": "markdown",
   "id": "0224aad2-0a09-4c0b-83be-b547bf3d3ef9",
   "metadata": {},
   "source": [
    "13. What are the benefits of using Python? \n"
   ]
  },
  {
   "cell_type": "markdown",
   "id": "04d13b80-b3db-4e51-90f9-375b4de011f5",
   "metadata": {},
   "source": [
    "Ans.a)Open source\n",
    "b)Easy to use and usderstand\n",
    "c) portable\n",
    "d)Extensive liberaries\n",
    "e)Dynamically typed"
   ]
  },
  {
   "cell_type": "markdown",
   "id": "40fada90-bd7f-4a86-89c7-ab7185ae0413",
   "metadata": {},
   "source": [
    "14. How is memory managed in Python? "
   ]
  },
  {
   "cell_type": "markdown",
   "id": "b51538be-2977-4ce0-9522-324fb947f8ea",
   "metadata": {},
   "source": [
    "Ans.Memory management is the process of efficiently managing computer memory (RAM). It involves allocating a piece of memory at run-time to the program when the program requests it and freeing the allocated memory for re-use when the program no longer needs it."
   ]
  },
  {
   "cell_type": "code",
   "execution_count": null,
   "id": "217ef662-ac34-4c77-b774-968e721748d8",
   "metadata": {},
   "outputs": [],
   "source": [
    "15. How to install Python on Windows and set path variables? \n"
   ]
  }
 ],
 "metadata": {
  "kernelspec": {
   "display_name": "Python 3 (ipykernel)",
   "language": "python",
   "name": "python3"
  },
  "language_info": {
   "codemirror_mode": {
    "name": "ipython",
    "version": 3
   },
   "file_extension": ".py",
   "mimetype": "text/x-python",
   "name": "python",
   "nbconvert_exporter": "python",
   "pygments_lexer": "ipython3",
   "version": "3.10.8"
  }
 },
 "nbformat": 4,
 "nbformat_minor": 5
}
